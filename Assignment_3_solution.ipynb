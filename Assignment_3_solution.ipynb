{
 "cells": [
  {
   "cell_type": "markdown",
   "id": "c3ce4fca-a28a-4a05-8f61-8818f832b9f7",
   "metadata": {},
   "source": [
    "1. Why are functions advantageous to have in your programs?\n",
    "\n",
    "ANS : Function allow us to make code reusable and reduce the time and repeatative work. Apart from this functions makes programs shorter, easier to read, easier to update."
   ]
  },
  {
   "cell_type": "markdown",
   "id": "d36ffc15-aa6c-4e85-9cd4-36d675152dd4",
   "metadata": {},
   "source": [
    "2. When does the code in a function run: when it's specified or when it's called?\n",
    "\n",
    "Ans: Code in function runs wend it's called, not when it's specified."
   ]
  },
  {
   "cell_type": "markdown",
   "id": "6b6714da-0c21-4bea-96be-bced6dcc49ac",
   "metadata": {},
   "source": [
    "3. What statement creates a function?\n",
    "\n",
    "Ans: Function is created by define key as def along with function name and set of parentheses which holds parameters or empty and ending with colon.\n",
    "e.g. def namecheck():\n",
    "     def namecheck(name, age, email):"
   ]
  },
  {
   "cell_type": "markdown",
   "id": "5adf8f0c-4806-49f9-a9d0-4c366d18ad74",
   "metadata": {},
   "source": [
    "4. What is the difference between a function and a function call?\n",
    "\n",
    "Ans: A function is a block of code that runs perticular code and gives result. It accepts input and give result.\n",
    "     Function call is the code used to pass control to a function."
   ]
  },
  {
   "cell_type": "code",
   "execution_count": 3,
   "id": "243d0a1d-5c8b-4b64-aa3e-26a6198be38c",
   "metadata": {},
   "outputs": [
    {
     "data": {
      "text/plain": [
       "8"
      ]
     },
     "execution_count": 3,
     "metadata": {},
     "output_type": "execute_result"
    }
   ],
   "source": [
    "def add(a,b):\n",
    "    return a+b\n",
    "# Above lines of codes are function and below we are calling function\n",
    "add(3,5)"
   ]
  },
  {
   "cell_type": "markdown",
   "id": "0e23b828-91f1-4906-b541-0d9222b8e6f7",
   "metadata": {},
   "source": [
    "5. How many global scopes are there in a Python program? How many local scopes?\n",
    "\n",
    "Ans: There is a one global scope and one local scope in python program. This are created when function is called."
   ]
  },
  {
   "cell_type": "markdown",
   "id": "83956a72-7dfb-4571-9b84-46df7ad63e6b",
   "metadata": {},
   "source": [
    "6. What happens to variables in a local scope when the function call returns?\n",
    "\n",
    "Ans: When function returns, local scope destroyed and all variables in it forgotten."
   ]
  },
  {
   "cell_type": "markdown",
   "id": "4e032640-4dd8-4c58-a426-ee7e819a0968",
   "metadata": {},
   "source": [
    "7. What is the concept of a return value? Is it possible to have a return value in an expression?\n",
    "\n",
    "Ans: A return value is value that function returns to the caller. Like other values return values also be have in expression."
   ]
  },
  {
   "cell_type": "markdown",
   "id": "ff98f82c-b3e7-4925-a856-2392a7817cbf",
   "metadata": {},
   "source": [
    "8. If a function does not have a return statement, what is the return value of a call to that function?\n",
    "\n",
    "Ans: If there is a no return statement in the function then return value is None."
   ]
  },
  {
   "cell_type": "markdown",
   "id": "e52cf1e3-9f3c-40f4-a6cb-e8cd45d9b5b4",
   "metadata": {},
   "source": [
    "9. How do you make a function variable refer to the global variable?\n",
    "\n",
    "Ans: If we create variable inside the function then it is local variable however, to create globale variable inside function you can use global keyword."
   ]
  },
  {
   "cell_type": "markdown",
   "id": "32bb1041-aa81-4bb5-9fe8-3a56ae01910f",
   "metadata": {},
   "source": [
    "10. What is the data type of None?\n",
    "\n",
    "Ans: Data type of None is NoneType."
   ]
  },
  {
   "cell_type": "markdown",
   "id": "5c85f8c1-0565-41df-a099-89e9227cddfe",
   "metadata": {},
   "source": [
    "11. What does the sentence import areallyourpetsnamederic do?\n",
    "\n",
    "Ans: The import statement imports a module named areallyourpetsnamederic"
   ]
  },
  {
   "cell_type": "markdown",
   "id": "b7a8acf5-bf23-429f-a156-719eddbae04f",
   "metadata": {},
   "source": [
    "12. If you had a bacon() feature in a spam module, what would you call it after importing spam?\n",
    "\n",
    "Ans: This can be called by spam.bacon()"
   ]
  },
  {
   "cell_type": "markdown",
   "id": "454b41ee-fc8e-4499-a6bf-1091793dad33",
   "metadata": {},
   "source": [
    "13. What can you do to save a programme from crashing if it encounters an error?\n",
    "\n",
    "Ans: If error occurs during programme execution, I will used exceptional handlings try and except blocks to notify me why error occurs and gracefully exit the process causes error."
   ]
  },
  {
   "cell_type": "markdown",
   "id": "5478c452-1a9e-4b6f-97e6-af98579467bb",
   "metadata": {},
   "source": [
    "14. What is the purpose of the try clause? What is the purpose of the except clause?\n",
    "\n",
    "Ans: The try cluse let you test block of code for error. The except clause lets you handle the error."
   ]
  }
 ],
 "metadata": {
  "kernelspec": {
   "display_name": "Python 3 (ipykernel)",
   "language": "python",
   "name": "python3"
  },
  "language_info": {
   "codemirror_mode": {
    "name": "ipython",
    "version": 3
   },
   "file_extension": ".py",
   "mimetype": "text/x-python",
   "name": "python",
   "nbconvert_exporter": "python",
   "pygments_lexer": "ipython3",
   "version": "3.10.6"
  }
 },
 "nbformat": 4,
 "nbformat_minor": 5
}
